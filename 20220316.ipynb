{
  "nbformat": 4,
  "nbformat_minor": 0,
  "metadata": {
    "colab": {
      "name": "20220316.ipynb",
      "provenance": [],
      "authorship_tag": "ABX9TyPkN2w0j2QVeIxIQvYH/uyF",
      "include_colab_link": true
    },
    "kernelspec": {
      "name": "python3",
      "display_name": "Python 3"
    },
    "language_info": {
      "name": "python"
    }
  },
  "cells": [
    {
      "cell_type": "markdown",
      "metadata": {
        "id": "view-in-github",
        "colab_type": "text"
      },
      "source": [
        "<a href=\"https://colab.research.google.com/github/Svvpark0/class2022spring/blob/main/20220316.ipynb\" target=\"_parent\"><img src=\"https://colab.research.google.com/assets/colab-badge.svg\" alt=\"Open In Colab\"/></a>"
      ]
    },
    {
      "cell_type": "markdown",
      "source": [
        "파이썬 변수 - number, string\n",
        " "
      ],
      "metadata": {
        "id": "dfVCcdFTEuiD"
      }
    },
    {
      "cell_type": "markdown",
      "source": [
        "int/float - 정수/실수"
      ],
      "metadata": {
        "id": "Xpb1v9bsIuH5"
      }
    },
    {
      "cell_type": "markdown",
      "source": [
        "list- tuple과 유사하나 내부 변수 변경 가능"
      ],
      "metadata": {
        "id": "K_eikBiqIuwy"
      }
    },
    {
      "cell_type": "code",
      "source": [
        "a=(1,2,3,4); print(a[0]) ; print(a[2:-1])\n"
      ],
      "metadata": {
        "colab": {
          "base_uri": "https://localhost:8080/"
        },
        "id": "z1fE8Io2FDG3",
        "outputId": "e048145a-e94a-4fb6-d013-aeebf96b9b61"
      },
      "execution_count": null,
      "outputs": [
        {
          "output_type": "stream",
          "name": "stdout",
          "text": [
            "1\n",
            "(3,)\n"
          ]
        }
      ]
    },
    {
      "cell_type": "code",
      "source": [
        "a=(1,'a',[3,'4']); print(a[2]); print(a[2][1])"
      ],
      "metadata": {
        "colab": {
          "base_uri": "https://localhost:8080/"
        },
        "id": "iOwq8LksGov2",
        "outputId": "3b4df693-2275-4495-ecd8-fcfd2b6cdbf4"
      },
      "execution_count": null,
      "outputs": [
        {
          "output_type": "stream",
          "name": "stdout",
          "text": [
            "[3, '4']\n",
            "4\n"
          ]
        }
      ]
    },
    {
      "cell_type": "markdown",
      "source": [
        "Dict\n"
      ],
      "metadata": {
        "id": "qwvVyCCBI4se"
      }
    },
    {
      "cell_type": "code",
      "source": [
        "a={\"a\":'apple',\"b\":'orange',\"c\":2014}; print(a[\"a\"]); print(a[\"c\"])"
      ],
      "metadata": {
        "colab": {
          "base_uri": "https://localhost:8080/"
        },
        "id": "Gvvx4CVzI6Nm",
        "outputId": "6cdd4159-0857-4b7b-d245-83a5763c58a5"
      },
      "execution_count": null,
      "outputs": [
        {
          "output_type": "stream",
          "name": "stdout",
          "text": [
            "apple\n",
            "2014\n"
          ]
        }
      ]
    },
    {
      "cell_type": "markdown",
      "source": [
        "반복문 for 조건문 if\n"
      ],
      "metadata": {
        "id": "IyO29J2vJvr1"
      }
    },
    {
      "cell_type": "code",
      "source": [
        "a = [1,2,3,4]\n",
        "for i in a:\n",
        "    print(i)"
      ],
      "metadata": {
        "colab": {
          "base_uri": "https://localhost:8080/"
        },
        "id": "rcaJ4uF8J1JU",
        "outputId": "a216e0e1-2b82-422c-8cb6-6e945e89466d"
      },
      "execution_count": null,
      "outputs": [
        {
          "output_type": "stream",
          "name": "stdout",
          "text": [
            "1\n",
            "2\n",
            "3\n",
            "4\n"
          ]
        }
      ]
    },
    {
      "cell_type": "code",
      "source": [
        "a=0\n",
        "if a!=0:\n",
        "  print(a)\n",
        "else:\n",
        "  print(a+1)"
      ],
      "metadata": {
        "colab": {
          "base_uri": "https://localhost:8080/"
        },
        "id": "rXWM1PMYNVUR",
        "outputId": "f80953bc-95e6-417c-fb22-fa691ecf6aaa"
      },
      "execution_count": null,
      "outputs": [
        {
          "output_type": "stream",
          "name": "stdout",
          "text": [
            "1\n"
          ]
        }
      ]
    },
    {
      "cell_type": "code",
      "source": [
        "for i in range (1,3):\n",
        "  for j in range (3,5):\n",
        "    if j >=4:\n",
        "      print(i*j)\n"
      ],
      "metadata": {
        "colab": {
          "base_uri": "https://localhost:8080/"
        },
        "id": "k76Abz8NNxk2",
        "outputId": "ecc8d260-64ab-4c96-d8bb-1a215a05b294"
      },
      "execution_count": null,
      "outputs": [
        {
          "output_type": "stream",
          "name": "stdout",
          "text": [
            "4\n",
            "8\n"
          ]
        }
      ]
    },
    {
      "cell_type": "code",
      "source": [
        "a = ['red', 'green', 'blue', 'purple']\n",
        "b = [i for i in a if len(i) >=4]\n",
        "b"
      ],
      "metadata": {
        "colab": {
          "base_uri": "https://localhost:8080/"
        },
        "id": "kue_hjY5PIL9",
        "outputId": "27829f91-9737-41f6-d6a1-7fb7a06b0f2c"
      },
      "execution_count": null,
      "outputs": [
        {
          "output_type": "execute_result",
          "data": {
            "text/plain": [
              "['green', 'blue', 'purple']"
            ]
          },
          "metadata": {},
          "execution_count": 29
        }
      ]
    },
    {
      "cell_type": "markdown",
      "source": [
        "import - 'ram', 즉 메모리로 올려서 사용"
      ],
      "metadata": {
        "id": "UsIhljt2QvAF"
      }
    },
    {
      "cell_type": "markdown",
      "source": [
        "package - folder - function\n",
        "(numpy..randn.)\n",
        "(matplotlib - pyplot - hist)"
      ],
      "metadata": {
        "id": "zFeZ8wJnQ-97"
      }
    },
    {
      "cell_type": "code",
      "source": [
        "import numpy"
      ],
      "metadata": {
        "id": "z_CNyKiLRPuX"
      },
      "execution_count": null,
      "outputs": []
    },
    {
      "cell_type": "code",
      "source": [
        "numpy.random.randn(5)"
      ],
      "metadata": {
        "colab": {
          "base_uri": "https://localhost:8080/"
        },
        "id": "J_e_aMXlHlEs",
        "outputId": "daff0b90-cf4d-4d72-f299-54ca6e5ce296"
      },
      "execution_count": null,
      "outputs": [
        {
          "output_type": "execute_result",
          "data": {
            "text/plain": [
              "array([-0.44111206,  0.46319907, -1.26104228, -0.44305353, -0.70116338])"
            ]
          },
          "metadata": {},
          "execution_count": 3
        }
      ]
    },
    {
      "cell_type": "code",
      "source": [
        "import numpy as np\n",
        "n = np.random.randn(100)"
      ],
      "metadata": {
        "id": "OqdysRqnH0hj"
      },
      "execution_count": null,
      "outputs": []
    },
    {
      "cell_type": "code",
      "source": [
        "import matplotlib\n",
        "matplotlib.pyplot.hist(n)"
      ],
      "metadata": {
        "colab": {
          "base_uri": "https://localhost:8080/",
          "height": 356
        },
        "id": "-jrP49OCH9Cn",
        "outputId": "2035da56-b5a0-433e-9136-bf919d57b542"
      },
      "execution_count": null,
      "outputs": [
        {
          "output_type": "execute_result",
          "data": {
            "text/plain": [
              "(array([ 2.,  5., 12., 18., 16., 23., 13.,  6.,  4.,  1.]),\n",
              " array([-2.46341699, -1.95387467, -1.44433236, -0.93479005, -0.42524774,\n",
              "         0.08429457,  0.59383689,  1.1033792 ,  1.61292151,  2.12246382,\n",
              "         2.63200613]),\n",
              " <a list of 10 Patch objects>)"
            ]
          },
          "metadata": {},
          "execution_count": 5
        },
        {
          "output_type": "display_data",
          "data": {
            "text/plain": [
              "<Figure size 432x288 with 1 Axes>"
            ],
            "image/png": "[encoded data removed]"
          },
          "metadata": {
            "needs_background": "light"
          }
        }
      ]
    },
    {
      "cell_type": "markdown",
      "source": [
        "hist - frequency가 그림으로 그려짐"
      ],
      "metadata": {
        "id": "lstuA2PoIGWC"
      }
    },
    {
      "cell_type": "code",
      "source": [
        "import matplotlib.pyplot as plt\n",
        "plt. hist(n)"
      ],
      "metadata": {
        "colab": {
          "base_uri": "https://localhost:8080/",
          "height": 356
        },
        "id": "WMP_nsi1I9eA",
        "outputId": "c2435958-25e3-4bdc-c8a1-75f79090ac94"
      },
      "execution_count": null,
      "outputs": [
        {
          "output_type": "execute_result",
          "data": {
            "text/plain": [
              "(array([ 2.,  5., 12., 18., 16., 23., 13.,  6.,  4.,  1.]),\n",
              " array([-2.46341699, -1.95387467, -1.44433236, -0.93479005, -0.42524774,\n",
              "         0.08429457,  0.59383689,  1.1033792 ,  1.61292151,  2.12246382,\n",
              "         2.63200613]),\n",
              " <a list of 10 Patch objects>)"
            ]
          },
          "metadata": {},
          "execution_count": 22
        },
        {
          "output_type": "display_data",
          "data": {
            "text/plain": [
              "<Figure size 432x288 with 1 Axes>"
            ],
            "image/png": "[encoded data removed]"
          },
          "metadata": {
            "needs_background": "light"
          }
        }
      ]
    },
    {
      "cell_type": "code",
      "source": [
        "from matplotlib import pyplot\n",
        "pyplot. hist(n)"
      ],
      "metadata": {
        "colab": {
          "base_uri": "https://localhost:8080/",
          "height": 356
        },
        "id": "NLyYqJfmIjE7",
        "outputId": "8aa25ea6-14bf-4d32-b4ae-41ffc6d7c543"
      },
      "execution_count": null,
      "outputs": [
        {
          "output_type": "execute_result",
          "data": {
            "text/plain": [
              "(array([ 2.,  5., 12., 18., 16., 23., 13.,  6.,  4.,  1.]),\n",
              " array([-2.46341699, -1.95387467, -1.44433236, -0.93479005, -0.42524774,\n",
              "         0.08429457,  0.59383689,  1.1033792 ,  1.61292151,  2.12246382,\n",
              "         2.63200613]),\n",
              " <a list of 10 Patch objects>)"
            ]
          },
          "metadata": {},
          "execution_count": 6
        },
        {
          "output_type": "display_data",
          "data": {
            "text/plain": [
              "<Figure size 432x288 with 1 Axes>"
            ],
            "image/png": "[encoded data removed]"
          },
          "metadata": {
            "needs_background": "light"
          }
        }
      ]
    },
    {
      "cell_type": "markdown",
      "source": [
        "create nd array"
      ],
      "metadata": {
        "id": "JEAcOYe0JUSo"
      }
    },
    {
      "cell_type": "code",
      "source": [
        "import numpy as np"
      ],
      "metadata": {
        "id": "dAkJww-tJgcn"
      },
      "execution_count": null,
      "outputs": []
    },
    {
      "cell_type": "code",
      "source": [
        "x = np.array([1,2,3])\n",
        "print(x)\n",
        "print(type(x))\n",
        "print(x.shape)"
      ],
      "metadata": {
        "colab": {
          "base_uri": "https://localhost:8080/"
        },
        "id": "eCN7DB4PJkfe",
        "outputId": "4754eecf-ff97-4a40-8e48-aabbac62da62"
      },
      "execution_count": null,
      "outputs": [
        {
          "output_type": "stream",
          "name": "stdout",
          "text": [
            "[1 2 3]\n",
            "<class 'numpy.ndarray'>\n",
            "(3,)\n"
          ]
        }
      ]
    },
    {
      "cell_type": "code",
      "source": [
        "x = np.linspace(0,10,6)\n",
        "print(x)\n",
        "print(type(x))\n",
        "print(x.shape)"
      ],
      "metadata": {
        "colab": {
          "base_uri": "https://localhost:8080/"
        },
        "id": "ajhGxrvFLAg8",
        "outputId": "270f4e54-95b0-4ae0-eb28-173cf024307f"
      },
      "execution_count": null,
      "outputs": [
        {
          "output_type": "stream",
          "name": "stdout",
          "text": [
            "[ 0.  2.  4.  6.  8. 10.]\n",
            "<class 'numpy.ndarray'>\n",
            "(6,)\n"
          ]
        }
      ]
    },
    {
      "cell_type": "code",
      "source": [
        "x = np.array([[1,2,3], [4,5,6]])\n",
        "print(x)\n",
        "print(type(x))\n",
        "print(x.shape)"
      ],
      "metadata": {
        "colab": {
          "base_uri": "https://localhost:8080/"
        },
        "id": "G8FS8Ca4LQ5d",
        "outputId": "85d4c738-6638-4de8-b47e-a4831b0743e2"
      },
      "execution_count": null,
      "outputs": [
        {
          "output_type": "stream",
          "name": "stdout",
          "text": [
            "[[1 2 3]\n",
            " [4 5 6]]\n",
            "<class 'numpy.ndarray'>\n",
            "(2, 3)\n"
          ]
        }
      ]
    },
    {
      "cell_type": "code",
      "source": [
        "x = np.ones([2,2,3])\n",
        "print(x)\n",
        "print(type(x))\n",
        "print(x.shape)\n"
      ],
      "metadata": {
        "colab": {
          "base_uri": "https://localhost:8080/"
        },
        "id": "XXuHIot-L5Hi",
        "outputId": "7b69b149-09fe-4ad1-d229-bca160682a16"
      },
      "execution_count": null,
      "outputs": [
        {
          "output_type": "stream",
          "name": "stdout",
          "text": [
            "[[[1. 1. 1.]\n",
            "  [1. 1. 1.]]\n",
            "\n",
            " [[1. 1. 1.]\n",
            "  [1. 1. 1.]]]\n",
            "<class 'numpy.ndarray'>\n",
            "(2, 2, 3)\n"
          ]
        }
      ]
    },
    {
      "cell_type": "markdown",
      "source": [
        "create random numbers"
      ],
      "metadata": {
        "id": "OmsYvRNTMUC7"
      }
    },
    {
      "cell_type": "code",
      "source": [
        "np.random.normal(0, 1, [2,3,4])"
      ],
      "metadata": {
        "colab": {
          "base_uri": "https://localhost:8080/"
        },
        "id": "9ARwOxa2MENO",
        "outputId": "428b83c2-95d3-462d-b2fc-27e2f2f5540c"
      },
      "execution_count": null,
      "outputs": [
        {
          "output_type": "execute_result",
          "data": {
            "text/plain": [
              "array([[[ 2.12366018,  0.67482675, -0.99582166, -0.50669673],\n",
              "        [ 0.50841132, -0.08811297,  0.78574648,  0.98028516],\n",
              "        [-0.1493507 , -0.03611979, -0.05025975,  0.750605  ]],\n",
              "\n",
              "       [[ 0.11446232, -0.68948872,  0.33130742,  1.02456902],\n",
              "        [ 0.95737363, -0.72789345, -1.26244984, -0.26726341],\n",
              "        [-2.11579475, -1.52897285, -1.51191316,  0.29410344]]])"
            ]
          },
          "metadata": {},
          "execution_count": 21
        }
      ]
    },
    {
      "cell_type": "markdown",
      "source": [
        "위 코드에서 []내 숫자는 랜덤 넘버의 구조"
      ],
      "metadata": {
        "id": "IHfISFr6McP8"
      }
    },
    {
      "cell_type": "code",
      "source": [
        "import matplotlib.pyplot as plt"
      ],
      "metadata": {
        "id": "_0QH_sSINRWZ"
      },
      "execution_count": null,
      "outputs": []
    },
    {
      "cell_type": "code",
      "source": [
        "x = np.random.normal(0,1,100)\n",
        "print(x)\n",
        "plt.hist(x, bins=10)"
      ],
      "metadata": {
        "colab": {
          "base_uri": "https://localhost:8080/",
          "height": 664
        },
        "id": "XlJTo7dkNCU-",
        "outputId": "9874c115-80d9-437a-ae39-fa3ad7439f46"
      },
      "execution_count": null,
      "outputs": [
        {
          "output_type": "stream",
          "name": "stdout",
          "text": [
            "[-1.45694541 -0.48009664 -1.13079386 -0.96688277  1.45386138 -0.108699\n",
            " -0.43456615  1.2288537   0.77103948  1.37736531 -1.13519089  1.04148152\n",
            "  1.60378487  0.45682274 -0.34957045 -0.53105305  0.19864983  0.88230949\n",
            "  0.2007627  -1.36219035  0.82575804 -0.26488166 -0.83518291 -0.21169613\n",
            " -1.04778995  2.20545911  1.02636837 -1.34531153 -0.60327797 -0.49990455\n",
            " -0.40851016  1.04780314  1.42503285 -2.22672898 -1.24795968 -1.31671989\n",
            " -0.13848689 -0.45893828  2.29834358 -0.23571545 -2.32231175 -0.81555986\n",
            " -0.76707431  0.89483942  1.3834923   0.36309146 -1.22640601 -0.50751955\n",
            " -0.26828951 -1.47311945 -0.30498067  0.21770177  0.24896127  0.36920315\n",
            "  0.25321527  0.02146306  1.63595192 -0.71752336 -1.33246005  1.72480008\n",
            "  0.26663592 -0.3248307  -0.02253198  0.18119983 -0.34194846  0.09521532\n",
            "  0.21062102 -2.5072745  -1.10090803 -0.70517451 -0.45165984 -0.80142803\n",
            " -0.17761522  0.38674568 -1.41277314  1.4854187   0.80366315  1.24822614\n",
            " -0.28625058 -1.19065033 -0.76765088 -1.08639233 -1.19341979 -0.94527413\n",
            " -0.60423029 -0.68375552 -0.79345473  1.74263744 -0.00288398  0.61492316\n",
            " -0.26860828 -0.91131169  0.41071694 -1.08731299  1.19475872  0.63505071\n",
            " -0.52064506 -1.05481119  1.25997323  0.39750142]\n"
          ]
        },
        {
          "output_type": "execute_result",
          "data": {
            "text/plain": [
              "(array([ 3.,  0., 16., 16., 22., 14.,  9.,  9.,  9.,  2.]),\n",
              " array([-2.5072745 , -2.0267127 , -1.54615089, -1.06558908, -0.58502727,\n",
              "        -0.10446546,  0.37609635,  0.85665816,  1.33721996,  1.81778177,\n",
              "         2.29834358]),\n",
              " <a list of 10 Patch objects>)"
            ]
          },
          "metadata": {},
          "execution_count": 27
        },
        {
          "output_type": "display_data",
          "data": {
            "text/plain": [
              "<Figure size 432x288 with 1 Axes>"
            ],
            "image/png": "[encoded data removed]"
          },
          "metadata": {
            "needs_background": "light"
          }
        }
      ]
    },
    {
      "cell_type": "markdown",
      "source": [
        "numpy로 sine curve"
      ],
      "metadata": {
        "id": "MOH9OEVaOMeX"
      }
    },
    {
      "cell_type": "code",
      "source": [
        "plt.figure()\n",
        "\n",
        "theta1 = np.linspace(0, 2*np.pi, 100)\n",
        "s1 = np.sin(theta1)\n",
        "theta2 = np.linspace(0, 2*np.pi, 100) + np.pi/2\n",
        "s2 = np.sin(theta2)\n",
        "\n",
        "plt.subplot(2, 1, 1) # (rows, columns, panel number)\n",
        "plt.plot(theta1, s1, '.')\n",
        "plt.subplot(2, 1, 2) # (rows, columns, panel number)\n",
        "plt.plot(theta2, s2, '.')"
      ],
      "metadata": {
        "colab": {
          "base_uri": "https://localhost:8080/",
          "height": 283
        },
        "id": "bnTqntaKNjFm",
        "outputId": "af336d7d-419d-441a-e1f1-6ac7706cf710"
      },
      "execution_count": null,
      "outputs": [
        {
          "output_type": "execute_result",
          "data": {
            "text/plain": [
              "[<matplotlib.lines.Line2D at 0x7fafd0be9910>]"
            ]
          },
          "metadata": {},
          "execution_count": 28
        },
        {
          "output_type": "display_data",
          "data": {
            "text/plain": [
              "<Figure size 432x288 with 2 Axes>"
            ],
            "image/png": "[encoded data removed]"
          },
          "metadata": {
            "needs_background": "light"
          }
        }
      ]
    },
    {
      "cell_type": "markdown",
      "source": [
        "subplot(2,1,1)은 각 (세로, 가로, 위치)"
      ],
      "metadata": {
        "id": "AvTzp-JIQMhZ"
      }
    },
    {
      "cell_type": "code",
      "source": [
        "np. corrcoef(s1,s2)\n"
      ],
      "metadata": {
        "colab": {
          "base_uri": "https://localhost:8080/"
        },
        "id": "G7bgzCB7QW6U",
        "outputId": "ecff8b7a-04bf-41ae-9fb1-a4a0c1054ee5"
      },
      "execution_count": null,
      "outputs": [
        {
          "output_type": "execute_result",
          "data": {
            "text/plain": [
              "array([[1.00000000e+00, 2.41915449e-17],\n",
              "       [2.41915449e-17, 1.00000000e+00]])"
            ]
          },
          "metadata": {},
          "execution_count": 30
        }
      ]
    },
    {
      "cell_type": "markdown",
      "source": [
        "r>0 정비례/ r<0 반비례\n",
        "절대값이 0에 가까울수록 그래프 두루뭉실\n",
        "두 그래프의 correlation 0"
      ],
      "metadata": {
        "id": "E9KVD-HzQh9H"
      }
    },
    {
      "cell_type": "code",
      "source": [
        "import pandas as pd\n"
      ],
      "metadata": {
        "id": "5C2XpNcU9Bau"
      },
      "execution_count": 1,
      "outputs": []
    },
    {
      "cell_type": "code",
      "source": [
        "install-import-built in 순"
      ],
      "metadata": {
        "id": "x2D6DqWjBaGT"
      },
      "execution_count": null,
      "outputs": []
    },
    {
      "cell_type": "code",
      "source": [
        ""
      ],
      "metadata": {
        "id": "zQZEFiFCD1mM"
      },
      "execution_count": null,
      "outputs": []
    }
  ]
}