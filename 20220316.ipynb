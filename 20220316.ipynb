{
  "nbformat": 4,
  "nbformat_minor": 0,
  "metadata": {
    "colab": {
      "name": "20220316.ipynb",
      "provenance": [],
      "authorship_tag": "ABX9TyPxBkAidj0VoPm1Efg8X7fc",
      "include_colab_link": true
    },
    "kernelspec": {
      "name": "python3",
      "display_name": "Python 3"
    },
    "language_info": {
      "name": "python"
    }
  },
  "cells": [
    {
      "cell_type": "markdown",
      "metadata": {
        "id": "view-in-github",
        "colab_type": "text"
      },
      "source": [
        "<a href=\"https://colab.research.google.com/github/Svvpark0/class2022spring/blob/main/20220316.ipynb\" target=\"_parent\"><img src=\"https://colab.research.google.com/assets/colab-badge.svg\" alt=\"Open In Colab\"/></a>"
      ]
    },
    {
      "cell_type": "markdown",
      "source": [
        "파이썬 변수 - number, string\n",
        " "
      ],
      "metadata": {
        "id": "dfVCcdFTEuiD"
      }
    },
    {
      "cell_type": "markdown",
      "source": [
        "int/float - 정수/실수"
      ],
      "metadata": {
        "id": "Xpb1v9bsIuH5"
      }
    },
    {
      "cell_type": "markdown",
      "source": [
        "list- tuple과 유사하나 내부 변수 변경 가능"
      ],
      "metadata": {
        "id": "K_eikBiqIuwy"
      }
    },
    {
      "cell_type": "code",
      "source": [
        "a=(1,2,3,4); print(a[0]) ; print(a[2:-1])\n"
      ],
      "metadata": {
        "colab": {
          "base_uri": "https://localhost:8080/"
        },
        "id": "z1fE8Io2FDG3",
        "outputId": "e048145a-e94a-4fb6-d013-aeebf96b9b61"
      },
      "execution_count": 8,
      "outputs": [
        {
          "output_type": "stream",
          "name": "stdout",
          "text": [
            "1\n",
            "(3,)\n"
          ]
        }
      ]
    },
    {
      "cell_type": "code",
      "source": [
        "a=(1,'a',[3,'4']); print(a[2]); print(a[2][1])"
      ],
      "metadata": {
        "colab": {
          "base_uri": "https://localhost:8080/"
        },
        "id": "iOwq8LksGov2",
        "outputId": "3b4df693-2275-4495-ecd8-fcfd2b6cdbf4"
      },
      "execution_count": 15,
      "outputs": [
        {
          "output_type": "stream",
          "name": "stdout",
          "text": [
            "[3, '4']\n",
            "4\n"
          ]
        }
      ]
    },
    {
      "cell_type": "markdown",
      "source": [
        "Dict\n"
      ],
      "metadata": {
        "id": "qwvVyCCBI4se"
      }
    },
    {
      "cell_type": "code",
      "source": [
        "a={\"a\":'apple',\"b\":'orange',\"c\":2014}; print(a[\"a\"]); print(a[\"c\"])"
      ],
      "metadata": {
        "colab": {
          "base_uri": "https://localhost:8080/"
        },
        "id": "Gvvx4CVzI6Nm",
        "outputId": "6cdd4159-0857-4b7b-d245-83a5763c58a5"
      },
      "execution_count": 17,
      "outputs": [
        {
          "output_type": "stream",
          "name": "stdout",
          "text": [
            "apple\n",
            "2014\n"
          ]
        }
      ]
    },
    {
      "cell_type": "markdown",
      "source": [
        "반복문 for 조건문 if\n"
      ],
      "metadata": {
        "id": "IyO29J2vJvr1"
      }
    },
    {
      "cell_type": "code",
      "source": [
        "a = [1,2,3,4]\n",
        "for i in a:\n",
        "    print(i)"
      ],
      "metadata": {
        "colab": {
          "base_uri": "https://localhost:8080/"
        },
        "id": "rcaJ4uF8J1JU",
        "outputId": "a216e0e1-2b82-422c-8cb6-6e945e89466d"
      },
      "execution_count": 25,
      "outputs": [
        {
          "output_type": "stream",
          "name": "stdout",
          "text": [
            "1\n",
            "2\n",
            "3\n",
            "4\n"
          ]
        }
      ]
    },
    {
      "cell_type": "code",
      "source": [
        "a=0\n",
        "if a!=0:\n",
        "  print(a)\n",
        "else:\n",
        "  print(a+1)"
      ],
      "metadata": {
        "colab": {
          "base_uri": "https://localhost:8080/"
        },
        "id": "rXWM1PMYNVUR",
        "outputId": "f80953bc-95e6-417c-fb22-fa691ecf6aaa"
      },
      "execution_count": 27,
      "outputs": [
        {
          "output_type": "stream",
          "name": "stdout",
          "text": [
            "1\n"
          ]
        }
      ]
    },
    {
      "cell_type": "code",
      "source": [
        "for i in range (1,3):\n",
        "  for j in range (3,5):\n",
        "    if j >=4:\n",
        "      print(i*j)\n"
      ],
      "metadata": {
        "colab": {
          "base_uri": "https://localhost:8080/"
        },
        "id": "k76Abz8NNxk2",
        "outputId": "ecc8d260-64ab-4c96-d8bb-1a215a05b294"
      },
      "execution_count": 28,
      "outputs": [
        {
          "output_type": "stream",
          "name": "stdout",
          "text": [
            "4\n",
            "8\n"
          ]
        }
      ]
    },
    {
      "cell_type": "code",
      "source": [
        "a = ['red', 'green', 'blue', 'purple']\n",
        "b = [i for i in a if len(i) >=4]\n",
        "b"
      ],
      "metadata": {
        "colab": {
          "base_uri": "https://localhost:8080/"
        },
        "id": "kue_hjY5PIL9",
        "outputId": "27829f91-9737-41f6-d6a1-7fb7a06b0f2c"
      },
      "execution_count": 29,
      "outputs": [
        {
          "output_type": "execute_result",
          "data": {
            "text/plain": [
              "['green', 'blue', 'purple']"
            ]
          },
          "metadata": {},
          "execution_count": 29
        }
      ]
    },
    {
      "cell_type": "markdown",
      "source": [
        "import - 'ram', 즉 메모리로 올려서 사용"
      ],
      "metadata": {
        "id": "UsIhljt2QvAF"
      }
    },
    {
      "cell_type": "markdown",
      "source": [
        "package - folder - function\n",
        "numpy..randn.\n",
        "matplotlib - pyplot - hist"
      ],
      "metadata": {
        "id": "zFeZ8wJnQ-97"
      }
    },
    {
      "cell_type": "code",
      "source": [
        ""
      ],
      "metadata": {
        "id": "z_CNyKiLRPuX"
      },
      "execution_count": null,
      "outputs": []
    }
  ]
}